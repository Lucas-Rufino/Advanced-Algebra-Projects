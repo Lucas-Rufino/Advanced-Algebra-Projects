{
 "cells": [
  {
   "cell_type": "markdown",
   "metadata": {},
   "source": [
    "# Projeto de Análise de Erro\n",
    "\n",
    "Esse projeto busca abordar erros associados a representação computacional de ponto flutuante, na execução de operações de produto interno de vetores N-dimensionais. Para fins de análise, utilizaremos o protudo interno usual definido abaixo:\n",
    "\n",
    "\\begin{equation}\n",
    "<X, Y> = \\sum_{i=1}^{n} x_i y_i = x_1 y_1 + x_2 y_2 + ... + x_n y_n\n",
    "\\end{equation}\n",
    "\n",
    "Para realizarmos o estudo do impacto do erro de máquina sobre esta operação, desvemos possuir um valor alvo esperado, esse valor ideal representa o resultado desejado ao final da operação, onde a diferença entre o valor real obtido e o valor ideal é o erro gerado durante sua execução. Para obter esse valor ideal, iremos considerar que os vetores nessa análise estão normalizados, isso é, para todo vetor $X$, sua norma é iqual a $1$, logo:\n",
    "\n",
    "\\begin{equation}\n",
    "||X|| = \\sqrt{<X, X>} = <X, X> = 1\n",
    "\\end{equation}\n",
    "\n",
    "Com o objetivo de definir um escopo mais restrito ao projeto, também iremos considerar que todos os vetores são binários, isso é, para todo vetor $X$, $x_i = 0$ ou $x_i = k$, onde $0 <= i < N$ e $k \\in R$. Vale resaltar que este tipo de configuração de vetores é bem comum para representação de dados, como palavras, textos, documentos, taxonomias, classificação, etc.\n",
    "\n",
    "Este projeto será execultado na linguagem C/C++, perminitindo interpretar mais facilmente os problemas associados aos bits, além disso será ultilizado a representação de ponto flutuante com menor precisão em C/C++, neste caso o \"_float_\", trata-se de uma representação padronizada pela _IEEE_ com 32 bits nomeada de _single_ (a representação de 16 bits (_half_) não é nativa em C/C++). Por padrão, C/C++ utiliza truncamento na adminstração de dados.\n",
    "\n",
    "Resumindo, teremos:\n",
    "\n",
    "> - Operação de produto interno como alvo da ánalise de erro.\n",
    "> - Todos os vetores que envolvem o problema possuem norma 1, a norma será o valor esperado do produto interno.\n",
    "> - Todos os vetores são binários, possuindo apenas dois valores possíveis em cada dimensão, reduzindo o escopo do problema.\n",
    "> - Representação _float_ em C/C++ com 32 bits de precisão com trucamento."
   ]
  },
  {
   "cell_type": "markdown",
   "metadata": {},
   "source": [
    "## Procedimentos Iniciais\n",
    "\n",
    "Para analizar os dados visualmente, iremos importar as bibliotecas gráficas utilizadas no jupyter e no interpretador de C/C++, neste caso, o Xplot da Xeus, que usa como base o bgplot em Python. Também seram iniciados as estruturas de dados padrão que seram utilizadas durante toda a análise."
   ]
  },
  {
   "cell_type": "code",
   "execution_count": 1,
   "metadata": {},
   "outputs": [],
   "source": [
    "#include \"xplot/xfigure.hpp\"\n",
    "#include \"xplot/xmarks.hpp\"\n",
    "#include \"xplot/xaxes.hpp\"\n",
    "\n",
    "using namespace std;\n",
    "\n",
    "vector<double> x;\n",
    "vector<double> y;"
   ]
  },
  {
   "cell_type": "markdown",
   "metadata": {},
   "source": [
    "## Implementação Singela de Produto Interno\n",
    "\n",
    "Como desejamos simular o produto interno para uma situação muito especifica, isso é, para vetores binários normalizados aplicados a relação $<X, X> = 1$, podemos partir do principio de algumas otimizações que não impactam na implementação singela de produto interno, tais como:\n",
    "\n",
    "> - Produto interno é indiferente quanto a dimensões nulas, podendo ser retiradas da operação.\n",
    "> - A dimensão do vetor é irrelevante, desde que o número de dimensões não-nulas seja informado.\n",
    "> - não é necessario a costrução de uma estrutura de array para representação do vetor, por ele ser binário."
   ]
  },
  {
   "cell_type": "code",
   "execution_count": 2,
   "metadata": {},
   "outputs": [],
   "source": [
    "void dotNaive(int size, int shift=0){\n",
    "    x = vector<double>(size);\n",
    "    y = vector<double>(size);\n",
    "    x[0] = 0; y[0] = 1.0;\n",
    "    for(int i=1 ; i<size ; i++){\n",
    "        int aux = i << shift;\n",
    "        float d = 1.0 / sqrt(aux);\n",
    "        float sum = 0.0f;\n",
    "        for(int j=0 ; j<aux ; j++){\n",
    "            sum += d*d;\n",
    "        }\n",
    "        x[i] = aux;\n",
    "        y[i] = sum;\n",
    "    }\n",
    "}"
   ]
  },
  {
   "cell_type": "markdown",
   "metadata": {},
   "source": [
    "## Primeiro teste de execução\n",
    "\n",
    "Iremos executar o código para gerar o resultado dos 10000 primeiros vetores com dimensão não-nula até 10000, o resultado segue no gráfico abaixo:"
   ]
  },
  {
   "cell_type": "code",
   "execution_count": 3,
   "metadata": {},
   "outputs": [
    {
     "data": {
      "application/vnd.jupyter.widget-view+json": {
       "model_id": "6f8457b0b0d04b1ebbcacc852c699db2",
       "version_major": 2,
       "version_minor": 0
      },
      "text/plain": [
       "A Jupyter widget"
      ]
     },
     "execution_count": 3,
     "metadata": {},
     "output_type": "execute_result"
    }
   ],
   "source": [
    "dotNaive(10000);\n",
    "xpl::linear_scale sx1, sy1;\n",
    "auto fig1 = xpl::figure_generator().padding_x(0.025).padding_y(0.025).finalize();\n",
    "fig1.add_mark(xpl::scatter_generator(sx1, sy1).x(x).y(y).default_size(1).finalize());\n",
    "fig1.add_axis(xpl::axis_generator(sy1).label(\"Valor Obtido\").orientation(\"vertical\").side(\"left\").finalize());\n",
    "fig1.add_axis(xpl::axis_generator(sx1).label(\"Número de Dimensões Não-Nulas\").finalize());\n",
    "fig1"
   ]
  },
  {
   "cell_type": "markdown",
   "metadata": {},
   "source": [
    "## Análise de resultados \n",
    "\n",
    "Do gráfico acima podemos observar que ocorrereu grande dispersão do valor com relação ao valor esperado, observe também que o erro associado cresce significativamente conforme o número de dimensões não-nulas crescem, demostrando uma forte correlação desta caracteristica com o erro. Observe tambem que o erro parece ser mais intenso em duas regioes especificas demostrando uma configuração \"bi-gaussiana\", sendo menos intenso com valores proximos ao ideial, e menos recorrente nos erros extremos, contudo elevado nos valores de erro medio absoluto. Observe também que o gráfico aparenta demostrar determinados padrões de frequência, como pequenas senoídes, irremos ataca esse padrão de forma a evidencia-lo e demostrar suas características, para isso iremos aplica o produto vetorial em vetores com potencias de 2 elementos não-nulos afim de reforçar a ocorrência do padrão. "
   ]
  },
  {
   "cell_type": "code",
   "execution_count": 4,
   "metadata": {},
   "outputs": [
    {
     "data": {
      "application/vnd.jupyter.widget-view+json": {
       "model_id": "b81fe9b864344e368b649a6509977497",
       "version_major": 2,
       "version_minor": 0
      },
      "text/plain": [
       "A Jupyter widget"
      ]
     },
     "execution_count": 4,
     "metadata": {},
     "output_type": "execute_result"
    }
   ],
   "source": [
    "dotNaive(10000, 8);\n",
    "xpl::linear_scale sx2, sy2;\n",
    "auto fig2 = xpl::figure_generator().padding_x(0.025).padding_y(0.025).finalize();\n",
    "fig2.add_mark(xpl::scatter_generator(sx2, sy2).x(x).y(y).default_size(1).finalize());\n",
    "fig2.add_axis(xpl::axis_generator(sy2).label(\"Valor Obtido\").orientation(\"vertical\").side(\"left\").finalize());\n",
    "fig2.add_axis(xpl::axis_generator(sx2).label(\"Número de Dimensões Não-Nulas\").finalize());\n",
    "fig2"
   ]
  },
  {
   "cell_type": "code",
   "execution_count": 6,
   "metadata": {},
   "outputs": [
    {
     "data": {
      "application/vnd.jupyter.widget-view+json": {
       "model_id": "2a9d4d03ff374893a2dc9e68cbcafb65",
       "version_major": 2,
       "version_minor": 0
      },
      "text/plain": [
       "A Jupyter widget"
      ]
     },
     "execution_count": 6,
     "metadata": {},
     "output_type": "execute_result"
    }
   ],
   "source": [
    "dotNaive(200, 23);\n",
    "xpl::linear_scale sx3, sy3;\n",
    "auto fig3 = xpl::figure_generator().padding_x(0.025).padding_y(0.025).finalize();\n",
    "fig3.add_mark(xpl::scatter_generator(sx3, sy3).x(x).y(y).default_size(1).finalize());\n",
    "fig3.add_axis(xpl::axis_generator(sy3).label(\"Valor Obtido\").orientation(\"vertical\").side(\"left\").finalize());\n",
    "fig3.add_axis(xpl::axis_generator(sx3).label(\"Número de Dimensões Não-Nulas\").finalize());\n",
    "fig3"
   ]
  },
  {
   "cell_type": "code",
   "execution_count": 4,
   "metadata": {},
   "outputs": [],
   "source": [
    "xpl::linear_scale xs, ys;\n",
    "xpl::hist hist(xs, ys);\n",
    "for(int i=0 ; i<size ; i++){\n",
    "    y_data[i] = abs(1 - y_data[i]);\n",
    "}\n",
    "hist.sample = y_data;"
   ]
  },
  {
   "cell_type": "code",
   "execution_count": 5,
   "metadata": {},
   "outputs": [
    {
     "data": {
      "application/vnd.jupyter.widget-view+json": {
       "model_id": "958c186778f94f71a5eaefd86d188dfe",
       "version_major": 2,
       "version_minor": 0
      },
      "text/plain": [
       "A Jupyter widget"
      ]
     },
     "execution_count": 5,
     "metadata": {},
     "output_type": "execute_result"
    }
   ],
   "source": [
    "xpl::figure fig2;\n",
    "fig2.add_mark(hist);\n",
    "fig2"
   ]
  },
  {
   "cell_type": "code",
   "execution_count": 6,
   "metadata": {},
   "outputs": [],
   "source": [
    "xpl::axis hx(xs), hy(ys);\n",
    "hy.orientation = \"vertical\";\n",
    "fig2.add_axis(hx);\n",
    "fig2.add_axis(hy);\n",
    "hist.colors = std::vector<std::string>{\"21c0fc\"};"
   ]
  },
  {
   "cell_type": "code",
   "execution_count": null,
   "metadata": {},
   "outputs": [],
   "source": []
  }
 ],
 "metadata": {
  "kernelspec": {
   "display_name": "C++14",
   "language": "C++14",
   "name": "xeus-cling-cpp14"
  },
  "language_info": {
   "codemirror_mode": "text/x-c++src",
   "file_extension": ".cpp",
   "mimetype": "text/x-c++src",
   "name": "c++",
   "version": "-std=c++14"
  }
 },
 "nbformat": 4,
 "nbformat_minor": 2
}
