{
 "cells": [
  {
   "cell_type": "markdown",
   "metadata": {},
   "source": [
    "## Problema da entrega de mercadorias\n",
    "\n",
    "Digamos que uma fabricante deseja enviar algumas unidades de um determinado produto para três revendedores **R1**, **R2** e **R3**. Para a realização dessa entrega, o fabicante dispõe de dois depósitos **D1** e **D2**. No primeiro deposito temos disponível **5 unidades** do produto e no segundo deposito temos **10 unidades** do produto. A demanda que cada revendedor pode receber é, respectivamente, de até **8, 5** e **2** unidades. O custo para transportar cada produto, saindo de um depósito até a um revendedor, estão definidos abaixo:\n",
    "\n",
    "<img src=\"imagens/graph.png\">\n",
    "\n",
    "**Pergunta:** De que maneira o transporte deve ser feito de forma a minimizar os custos da entrega?\n",
    "\n",
    "### Definindo o problema\n",
    "\n",
    "- $X_1$ número de unidades de D1 para R1\n",
    "- $X_2$ número de unidades de D1 para R2\n",
    "- $X_3$ número de unidades de D1 para R3\n",
    "- $X_4$ número de unidades de D2 para R1\n",
    "- $X_5$ número de unidades de D2 para R2\n",
    "- $X_6$ número de unidades de D2 para R3\n",
    "\n",
    "**Função objetivo**:\n",
    "\n",
    "Minimizar $Z = X_1 + 2X_2 + 4X_3 + 3X_4 + 2X_5 + X_6$\n",
    "\n",
    "**Restrições**:\n",
    "\n",
    "- $X_1 + X_2 + X_3 = 5$ (Disponibilidade de D1 para R1, R2, R3)\n",
    "- $X_4 + X_5 + X_6 = 10$ (Disponibilidade de D2 para R1, R2, R3)\n",
    "- $X_1 + X_4 = 8$ (Demanda de R1 fornecida por D1, D2)\n",
    "- $X_2 + X_5 = 5$ (Demanda de R2 fornecida por D1, D2)\n",
    "- $X_3 + X_6 = 2$ (Demanda de R3 fornecida por D1, D2)\n",
    "\n",
    "\n",
    "- $X_1, X_2, X_3, X_4, X_5, X_6 >= 0$\n",
    "- $X_1, X_2, X_3, X_4, X_5, X_6$ pertence aos Naturais"
   ]
  },
  {
   "cell_type": "code",
   "execution_count": 52,
   "metadata": {},
   "outputs": [
    {
     "data": {
      "text/plain": [
       "     fun: 26.0\n",
       " message: 'Optimization terminated successfully.'\n",
       "     nit: 7\n",
       "   slack: array([], dtype=float64)\n",
       "  status: 0\n",
       " success: True\n",
       "       x: array([5., 0., 0., 3., 5., 2.])"
      ]
     },
     "execution_count": 52,
     "metadata": {},
     "output_type": "execute_result"
    }
   ],
   "source": [
    "from scipy.optimize import linprog\n",
    "c =  [1, 2, 4, 3, 2, 1]\n",
    "\n",
    "A = [[1, 1, 1, 0, 0, 0], \n",
    "     [0, 0, 0, 1, 1, 1],\n",
    "     [1, 0, 0, 1, 0, 0],\n",
    "     [0, 1, 0, 0, 1, 0],\n",
    "     [0, 0, 1, 0, 0, 1]]\n",
    "\n",
    "b = [5, 10, 8, 5, 2]\n",
    "\n",
    "bounds = [(0, None)] * 6\n",
    "res = linprog(c, None, None, A, b, bounds=bounds)\n",
    "res"
   ]
  },
  {
   "cell_type": "markdown",
   "metadata": {},
   "source": [
    "Observe que para que o problema tenha solução, precisamos que o somatório da disponibilidade deve ser exatamente igual ao somatório da capacidade de estoque dos revendedores, caso contrário o problema não tem solução"
   ]
  },
  {
   "cell_type": "code",
   "execution_count": 50,
   "metadata": {},
   "outputs": [
    {
     "data": {
      "text/plain": [
       "     fun: 1.0\n",
       " message: 'Optimization failed. Unable to find a feasible starting point.'\n",
       "     nit: 5\n",
       "  status: 2\n",
       " success: False\n",
       "       x: nan"
      ]
     },
     "execution_count": 50,
     "metadata": {},
     "output_type": "execute_result"
    }
   ],
   "source": [
    "from scipy.optimize import linprog\n",
    "c =  [1, 2, 4, 3, 2, 1]\n",
    "\n",
    "A = [[1, 1, 1, 0, 0, 0], \n",
    "     [0, 0, 0, 1, 1, 1],\n",
    "     [1, 0, 0, 1, 0, 0],\n",
    "     [0, 1, 0, 0, 1, 0],\n",
    "     [0, 0, 1, 0, 0, 1]]\n",
    "\n",
    "b = [5, 10, 7, 5, 2]\n",
    "\n",
    "bounds = [(0, None)] * 6\n",
    "res = linprog(c, None, None, A, b, bounds=bounds)\n",
    "res"
   ]
  },
  {
   "cell_type": "code",
   "execution_count": 48,
   "metadata": {},
   "outputs": [
    {
     "data": {
      "text/plain": [
       "     fun: 23.0\n",
       " message: 'Optimization terminated successfully.'\n",
       "     nit: 7\n",
       "   slack: array([], dtype=float64)\n",
       "  status: 0\n",
       " success: True\n",
       "       x: array([5., 0., 0., 2., 5., 2.])"
      ]
     },
     "execution_count": 48,
     "metadata": {},
     "output_type": "execute_result"
    }
   ],
   "source": [
    "from scipy.optimize import linprog\n",
    "c =  [1, 2, 4, 3, 2, 1]\n",
    "\n",
    "A = [[1, 1, 1, 0, 0, 0], \n",
    "     [0, 0, 0, 1, 1, 1],\n",
    "     [1, 0, 0, 1, 0, 0],\n",
    "     [0, 1, 0, 0, 1, 0],\n",
    "     [0, 0, 1, 0, 0, 1]]\n",
    "\n",
    "b = [5, 9, 7, 5, 2]\n",
    "\n",
    "bounds = [(0, None)] * 6\n",
    "res = linprog(c, None, None, A, b, bounds=bounds)\n",
    "res"
   ]
  },
  {
   "cell_type": "markdown",
   "metadata": {},
   "source": [
    "### Observações\n",
    "\n",
    "Existem métodos específicos para execução dessa tafera de modo a obter a resposta com menos interação e flexibilizar retrições, o método é o \"Simplex para Transportes\" especificamente produzido para resolução desse problema, o método \n",
    "pode ser encontrado no link:\n",
    "\n",
    "http://www.ufjf.br/epd015/files/2010/06/problema_de_transporte.pdf"
   ]
  },
  {
   "cell_type": "markdown",
   "metadata": {},
   "source": [
    "### Reformulando a questão para maior liberdade de restrições\n",
    "\n",
    "**Função objetivo**:\n",
    "\n",
    "Minimizar $Z = X_1 + 2X_2 + 4X_3 + 3X_4 + 2X_5 + X_6$\n",
    "\n",
    "**Restrições**:\n",
    "\n",
    "- $X_1 + X_2 + X_3 <= 5$ (Disponibilidade máxima de D1 para R1, R2, R3)\n",
    "- $X_4 + X_5 + X_6 <= 10$ (Disponibilidade máxima de D2 para R1, R2, R3)\n",
    "- $X_1 + X_4 >= 8$ (Demanda mínima de R1 fornecida por D1, D2)\n",
    "- $X_2 + X_5 >= 5$ (Demanda mínima de R2 fornecida por D1, D2)\n",
    "- $X_3 + X_6 >= 2$ (Demanda mínima de R3 fornecida por D1, D2)\n",
    "\n",
    "\n",
    "- $X_1, X_2, X_3, X_4, X_5, X_6 >= 0$\n",
    "- $X_1, X_2, X_3, X_4, X_5, X_6$ pertence aos Naturais\n",
    "\n",
    "Como termos $<=$ e $>=$ precisamos inverter algumas restrições para termos apenas um unico tipo de inequação\n",
    "\n",
    "- $X_1 + X_2 + X_3 <= 5$ (Disponibilidade máxima de D1 para R1, R2, R3)\n",
    "- $X_4 + X_5 + X_6 <= 10$ (Disponibilidade máxima de D2 para R1, R2, R3)\n",
    "- $-X_1 - X_4 <= -8$ (Demanda mínima de R1 fornecida por D1, D2)\n",
    "- $-X_2 - X_5 <= -5$ (Demanda mínima de R2 fornecida por D1, D2)\n",
    "- $-X_3 - X_6 <= -2$ (Demanda mínima de R3 fornecida por D1, D2)\n",
    "\n",
    "Otimizando o problema por Simplex obtemos:"
   ]
  },
  {
   "cell_type": "code",
   "execution_count": 1,
   "metadata": {},
   "outputs": [
    {
     "data": {
      "text/plain": [
       "     fun: 26.0\n",
       " message: 'Optimization terminated successfully.'\n",
       "     nit: 9\n",
       "   slack: array([0., 0., 0., 0., 0.])\n",
       "  status: 0\n",
       " success: True\n",
       "       x: array([5., 0., 0., 3., 5., 2.])"
      ]
     },
     "execution_count": 1,
     "metadata": {},
     "output_type": "execute_result"
    }
   ],
   "source": [
    "from scipy.optimize import linprog\n",
    "c =  [ 1,  2,  4,  3,  2,  1]\n",
    "\n",
    "A = [[ 1,  1,  1,  0,  0,  0], \n",
    "     [ 0,  0,  0,  1,  1,  1],\n",
    "     [-1,  0,  0, -1,  0,  0],\n",
    "     [ 0, -1,  0,  0, -1,  0],\n",
    "     [ 0,  0, -1,  0,  0, -1]]\n",
    "\n",
    "b =  [ 5, 10, -8, -5, -2]\n",
    "\n",
    "bounds = [(0, None)] * 6\n",
    "res = linprog(c, A, b, bounds=bounds)\n",
    "res"
   ]
  },
  {
   "cell_type": "code",
   "execution_count": null,
   "metadata": {},
   "outputs": [],
   "source": []
  }
 ],
 "metadata": {
  "kernelspec": {
   "display_name": "Python 3",
   "language": "python",
   "name": "python3"
  },
  "language_info": {
   "codemirror_mode": {
    "name": "ipython",
    "version": 3
   },
   "file_extension": ".py",
   "mimetype": "text/x-python",
   "name": "python",
   "nbconvert_exporter": "python",
   "pygments_lexer": "ipython3",
   "version": "3.6.6"
  }
 },
 "nbformat": 4,
 "nbformat_minor": 2
}
